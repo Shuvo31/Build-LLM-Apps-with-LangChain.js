{
 "cells": [
  {
   "cell_type": "markdown",
   "id": "0fab81f5-a0ca-4574-b656-5fd1719dde71",
   "metadata": {},
   "source": [
    "# Lesson 6: Shipping as a web API"
   ]
  },
  {
   "cell_type": "code",
   "execution_count": 1,
   "id": "18f6254b-5eaf-4867-999b-97d08f96cee9",
   "metadata": {
    "height": 30
   },
   "outputs": [
    {
     "data": {
      "text/plain": [
       "[Module: null prototype] { default: {} }"
      ]
     },
     "execution_count": 1,
     "metadata": {},
     "output_type": "execute_result"
    }
   ],
   "source": [
    "import \"dotenv/config\";"
   ]
  },
  {
   "cell_type": "code",
   "execution_count": 2,
   "id": "c326a7cc-d9be-432c-be10-7846d2b8e5e9",
   "metadata": {
    "height": 268
   },
   "outputs": [],
   "source": [
    "import { \n",
    "  loadAndSplitChunks, \n",
    "  initializeVectorstoreWithDocuments \n",
    "} from \"./lib/helpers.ts\";\n",
    "\n",
    "const splitDocs = await loadAndSplitChunks({\n",
    "  chunkSize: 1536,\n",
    "  chunkOverlap: 128,\n",
    "});\n",
    "\n",
    "const vectorstore = await initializeVectorstoreWithDocuments({\n",
    "  documents: splitDocs,\n",
    "});\n",
    "\n",
    "const retriever = vectorstore.asRetriever();"
   ]
  },
  {
   "cell_type": "code",
   "execution_count": 3,
   "id": "8b25e21c-28d0-4329-852e-b96a14c38529",
   "metadata": {
    "height": 132
   },
   "outputs": [],
   "source": [
    "import { \n",
    "  createDocumentRetrievalChain, \n",
    "  createRephraseQuestionChain \n",
    "} from \"./lib/helpers.ts\";\n",
    "\n",
    "const documentRetrievalChain = createDocumentRetrievalChain();\n",
    "const rephraseQuestionChain = createRephraseQuestionChain();"
   ]
  },
  {
   "cell_type": "code",
   "execution_count": 4,
   "id": "520b4a9b-89de-4652-b238-b7dddbd5a2c2",
   "metadata": {
    "height": 403
   },
   "outputs": [],
   "source": [
    "import { ChatPromptTemplate, MessagesPlaceholder } from \"@langchain/core/prompts\";\n",
    "\n",
    "const ANSWER_CHAIN_SYSTEM_TEMPLATE = `You are an experienced researcher,\n",
    "expert at interpreting and answering questions based on provided sources.\n",
    "Using the below provided context and chat history, \n",
    "answer the user's question to the best of your ability\n",
    "using only the resources provided. Be verbose!\n",
    "\n",
    "<context>\n",
    "{context}\n",
    "</context>`;\n",
    "\n",
    "const answerGenerationChainPrompt = ChatPromptTemplate.fromMessages([\n",
    "  [\"system\", ANSWER_CHAIN_SYSTEM_TEMPLATE],\n",
    "  new MessagesPlaceholder(\"history\"),\n",
    "  [\n",
    "    \"human\", \n",
    "    `Now, answer this question using the previous context and chat history:\n",
    "  \n",
    "    {standalone_question}`\n",
    "  ]\n",
    "]);"
   ]
  },
  {
   "cell_type": "code",
   "execution_count": 5,
   "id": "c325c8b5-9292-41f2-ad10-3ad0ad3df182",
   "metadata": {
    "height": 285
   },
   "outputs": [],
   "source": [
    "import { \n",
    "  RunnablePassthrough, \n",
    "  RunnableSequence \n",
    "} from \"@langchain/core/runnables\";\n",
    "import { ChatOpenAI } from \"@langchain/openai\";\n",
    "\n",
    "const conversationalRetrievalChain = RunnableSequence.from([\n",
    "  RunnablePassthrough.assign({\n",
    "    standalone_question: rephraseQuestionChain,\n",
    "  }),\n",
    "  RunnablePassthrough.assign({\n",
    "    context: documentRetrievalChain,\n",
    "  }),\n",
    "  answerGenerationChainPrompt,\n",
    "  new ChatOpenAI({ modelName: \"gpt-3.5-turbo-1106\" }),\n",
    "]);"
   ]
  },
  {
   "cell_type": "code",
   "execution_count": 6,
   "id": "f5fe1d4c-9075-47d4-8451-b9bbc1115668",
   "metadata": {
    "height": 115
   },
   "outputs": [],
   "source": [
    "import { HttpResponseOutputParser } from \"langchain/output_parsers\";\n",
    "\n",
    "// \"text/event-stream\" is also supported\n",
    "const httpResponseOutputParser = new HttpResponseOutputParser({\n",
    "  contentType: \"text/plain\"\n",
    "});"
   ]
  },
  {
   "cell_type": "code",
   "execution_count": 7,
   "id": "9cb3853d-826c-4e1f-a413-9f9f0faf62fe",
   "metadata": {
    "height": 200
   },
   "outputs": [],
   "source": [
    "import { RunnableWithMessageHistory } from \"@langchain/core/runnables\"; \n",
    "import { ChatMessageHistory } from \"langchain/stores/message/in_memory\";\n",
    "\n",
    "const messageHistory = new ChatMessageHistory();\n",
    "\n",
    "const finalRetrievalChain = new RunnableWithMessageHistory({\n",
    "  runnable: conversationalRetrievalChain,\n",
    "  getMessageHistory: (_sessionId) => messageHistory,\n",
    "  historyMessagesKey: \"history\",\n",
    "  inputMessagesKey: \"question\",\n",
    "}).pipe(httpResponseOutputParser);"
   ]
  },
  {
   "cell_type": "markdown",
   "id": "ecaeb6ee-d3a0-4adb-b08c-e78a7ef92321",
   "metadata": {},
   "source": [
    "Additionally, we'll want to bear in mind that users should not share chat histories, and we should create a new history object per session:"
   ]
  },
  {
   "cell_type": "code",
   "execution_count": 8,
   "id": "c8f81c9f-88d7-470a-b597-c4137c9d35a4",
   "metadata": {
    "height": 183
   },
   "outputs": [],
   "source": [
    "const messageHistories = {};\n",
    "\n",
    "const getMessageHistoryForSession = (sessionId) => {\n",
    "    if (messageHistories[sessionId] !== undefined) {\n",
    "        return messageHistories[sessionId];\n",
    "    } \n",
    "    const newChatSessionHistory = new ChatMessageHistory();\n",
    "    messageHistories[sessionId] = newChatSessionHistory;\n",
    "    return newChatSessionHistory;\n",
    "};"
   ]
  },
  {
   "cell_type": "markdown",
   "id": "ae7291e9-6448-4931-bd56-f905f6324b4e",
   "metadata": {},
   "source": [
    "We'll recreate our final chain with this new method:"
   ]
  },
  {
   "cell_type": "code",
   "execution_count": 9,
   "id": "24bc88b0-851c-4304-a085-ac0cba9f615f",
   "metadata": {
    "height": 115
   },
   "outputs": [],
   "source": [
    "const finalRetrievalChain = new RunnableWithMessageHistory({\n",
    "  runnable: conversationalRetrievalChain,\n",
    "  getMessageHistory: getMessageHistoryForSession,\n",
    "  inputMessagesKey: \"question\",\n",
    "  historyMessagesKey: \"history\",\n",
    "}).pipe(httpResponseOutputParser);"
   ]
  },
  {
   "cell_type": "code",
   "execution_count": 10,
   "id": "f35a5209-e820-496b-9abc-60ade9f22d7c",
   "metadata": {
    "height": 30
   },
   "outputs": [],
   "source": [
    "const port = 8087;"
   ]
  },
  {
   "cell_type": "code",
   "execution_count": 11,
   "id": "ebc26867-8376-4358-9525-221227967091",
   "metadata": {
    "height": 234
   },
   "outputs": [],
   "source": [
    "const handler = async (request: Request): Response => {\n",
    "  const body = await request.json();\n",
    "  const stream = await finalRetrievalChain.stream({\n",
    "    question: body.question\n",
    "  }, { configurable: { sessionId: body.session_id } });\n",
    "\n",
    "  return new Response(stream, { \n",
    "    status: 200,\n",
    "    headers: {\n",
    "      \"Content-Type\": \"text/plain\"\n",
    "    },\n",
    "  });\n",
    "};"
   ]
  },
  {
   "cell_type": "code",
   "execution_count": 12,
   "id": "0ac36205-de1c-4cfb-81e8-9c9d1525b338",
   "metadata": {
    "height": 30
   },
   "outputs": [
    {
     "name": "stdout",
     "output_type": "stream",
     "text": [
      "Listening on http://localhost:8087/\n"
     ]
    },
    {
     "data": {
      "text/plain": [
       "{\n",
       "  finished: Promise { \u001b[36m<pending>\u001b[39m },\n",
       "  shutdown: \u001b[36m[AsyncFunction: shutdown]\u001b[39m,\n",
       "  ref: \u001b[36m[Function: ref]\u001b[39m,\n",
       "  unref: \u001b[36m[Function: unref]\u001b[39m,\n",
       "  [\u001b[32mSymbol(Symbol.asyncDispose)\u001b[39m]: \u001b[36m[Function: [Symbol.asyncDispose]]\u001b[39m\n",
       "}"
      ]
     },
     "execution_count": 12,
     "metadata": {},
     "output_type": "execute_result"
    }
   ],
   "source": [
    "Deno.serve({ port }, handler);"
   ]
  },
  {
   "cell_type": "code",
   "execution_count": 13,
   "id": "b547772d-4f1f-48e8-b381-138b30d993af",
   "metadata": {
    "height": 335
   },
   "outputs": [],
   "source": [
    "const decoder = new TextDecoder();\n",
    "\n",
    "// readChunks() reads from the provided reader and yields the results into an async iterable\n",
    "function readChunks(reader) {\n",
    "  return {\n",
    "    async* [Symbol.asyncIterator]() {\n",
    "      let readResult = await reader.read();\n",
    "      while (!readResult.done) {\n",
    "        yield decoder.decode(readResult.value);\n",
    "        readResult = await reader.read();\n",
    "      }\n",
    "    },\n",
    "  };\n",
    "}\n",
    "\n",
    "const sleep = async () => {\n",
    "  return new Promise((resolve) => setTimeout(resolve, 500));\n",
    "}"
   ]
  },
  {
   "cell_type": "code",
   "execution_count": 14,
   "id": "ac25b85d-dd40-42a1-8374-6c778e86c9d8",
   "metadata": {
    "height": 336
   },
   "outputs": [
    {
     "name": "stdout",
     "output_type": "stream",
     "text": [
      "CHUNK: The prerequisit\n",
      "CHUNK: es for t\n",
      "CHUNK: he course w\n",
      "CHUNK: ere outlined\n",
      "CHUNK:  by the instruc\n",
      "CHUNK: tor in the prov\n",
      "CHUNK: ided con\n",
      "CHUNK: text and chat his\n",
      "CHUNK: tory. The \n",
      "CHUNK: instructor emphasi\n",
      "CHUNK: zed the need\n",
      "CHUNK:  for familiar\n",
      "CHUNK: ity with basic\n",
      "CHUNK:  probability and \n",
      "CHUNK: statistics,\n",
      "CHUNK:  basic linear alge\n",
      "CHUNK: bra, and p\n",
      "CHUNK: rogramming k\n",
      "CHUNK: nowledge\n",
      "CHUNK: . Specifically,\n",
      "CHUNK:  the prerequisites include\n",
      "CHUNK: :\n",
      "\n",
      "1. Basic \n",
      "CHUNK: Probability and Statistics:\n",
      " \n",
      "CHUNK:   - Familiarity with rand\n",
      "CHUNK: om variables\n",
      "CHUNK: , expectatio\n",
      "CHUNK: n, variance\n",
      "CHUNK: , and probability conc\n",
      "CHUNK: epts.\n",
      "   - The \n",
      "CHUNK: assumption th\n",
      "CHUNK: at stude\n",
      "CHUNK: nts have ta\n",
      "CHUNK: ken an unde\n",
      "CHUNK: rgraduate \n",
      "CHUNK: statistics class, \n",
      "CHUNK: such as\n",
      "CHUNK:  Stat 116 at Sta\n",
      "CHUNK: nford, or\n",
      "CHUNK:  an equivalent\n",
      "CHUNK:  course.\n",
      "\n",
      "2. Basic Linear A\n",
      "CHUNK: lgebra:\n",
      "   - Familiarity with concepts re\n",
      "CHUNK: lated to mat\n",
      "CHUNK: rices and ve\n",
      "CHUNK: ctors, including \n",
      "CHUNK: matrix multiplica\n",
      "CHUNK: tion, matrix inverses, \n",
      "CHUNK: and eigenvectors. \n",
      "CHUNK: \n",
      "   - The instructor mention\n",
      "CHUNK: ed that undergraduate \n",
      "CHUNK: linear algebra courses like Math 51\n",
      "CHUNK: , 103, Math 11\n",
      "CHUNK: 3, or CS205\n",
      "CHUNK:  at Stanford would pro\n",
      "CHUNK: vide suffici\n",
      "CHUNK: ent background\n",
      "CHUNK: .\n",
      "\n",
      "3. Pro\n",
      "CHUNK: gramming Knowledge:\n",
      "   - While the \n",
      "CHUNK: course is not h\n",
      "CHUNK: eavily pro\n",
      "CHUNK: gramming-intensive,\n",
      "CHUNK:  some pr\n",
      "CHUNK: ogramming will be involve\n",
      "CHUNK: d, mostly in \n",
      "CHUNK: either MATLAB\n",
      "CHUNK:  or Octave. \n",
      "   - The instructor \n",
      "CHUNK: indicated that \n",
      "CHUNK: there is no C\n",
      "CHUNK:  programming in the class other\n",
      "CHUNK:  than what \n",
      "CHUNK: students may choose to\n",
      "CHUNK:  do for the\n",
      "CHUNK: ir projects.\n",
      "CHUNK:  Additionally, the \n",
      "CHUNK: ability to underst\n",
      "CHUNK: and big-O not\n",
      "CHUNK: ation and knowledge of dat\n",
      "CHUNK: a structur\n",
      "CHUNK: es like linked lists,\n",
      "CHUNK:  queues, or \n",
      "CHUNK: binary trees is m\n",
      "CHUNK: ore import\n",
      "CHUNK: ant than s\n",
      "CHUNK: pecific knowledge of C or Java.\n",
      "\n",
      "It's worth noting that the instructor acknowledged that some students may need a refresher on these prerequisites, and they mentioned that they would cover some of the foundational material in review sections throughout the course.\n"
     ]
    }
   ],
   "source": [
    "const response = await fetch(`http://localhost:${port}`, {\n",
    "    method: \"POST\",\n",
    "    headers: {\n",
    "        \"content-type\": \"application/json\",\n",
    "    },\n",
    "    body: JSON.stringify({\n",
    "        question: \"What are the prerequisites for this course?\",\n",
    "        session_id: \"1\", // Should randomly generate/assign\n",
    "    })\n",
    "});\n",
    "\n",
    "// response.body is a ReadableStream\n",
    "const reader = response.body?.getReader();\n",
    "\n",
    "for await (const chunk of readChunks(reader)) {\n",
    "  console.log(\"CHUNK:\", chunk);\n",
    "}\n",
    "\n",
    "await sleep();"
   ]
  },
  {
   "cell_type": "code",
   "execution_count": 15,
   "id": "7af107da-cf4c-4900-a456-d131ff8fbc80",
   "metadata": {
    "height": 336
   },
   "outputs": [
    {
     "name": "stdout",
     "output_type": "stream",
     "text": [
      "CHUNK: Certainl\n",
      "CHUNK: y! Based on th\n",
      "CHUNK: e provided context a\n",
      "CHUNK: nd chat his\n",
      "CHUNK: tory, the prereq\n",
      "CHUNK: uisites for the \n",
      "CHUNK: course can be sum\n",
      "CHUNK: marized in\n",
      "CHUNK:  bullet point\n",
      "CHUNK:  format as fol\n",
      "CHUNK: lows:\n",
      "\n",
      "-\n",
      "CHUNK:  Basic Probability\n",
      "CHUNK:  and Statistics:\n",
      "  -\n",
      "CHUNK:  Familiar\n",
      "CHUNK: ity with rando\n",
      "CHUNK: m variables, expectati\n",
      "CHUNK: on, variance,\n",
      "CHUNK:  and probability conce\n",
      "CHUNK: pts.\n",
      "  - Complet\n",
      "CHUNK: ion of an undergrad\n",
      "CHUNK: uate stati\n",
      "CHUNK: stics class l\n",
      "CHUNK: ike Stat 11\n",
      "CHUNK: 6 at Stanford\n",
      "CHUNK:  or an equival\n",
      "CHUNK: ent course.\n",
      "CHUNK: \n",
      "\n",
      "- Basic Linear A\n",
      "CHUNK: lgebra:\n",
      "  - Familiarity with concepts\n",
      "CHUNK:  related \n",
      "CHUNK: to matrices and \n",
      "CHUNK: vectors,\n",
      "CHUNK:  includin\n",
      "CHUNK: g matrix multi\n",
      "CHUNK: plication, matrix i\n",
      "CHUNK: nverses, and eigen\n",
      "CHUNK: vectors.\n",
      "  - Backgr\n",
      "CHUNK: ound from undergraduate \n",
      "CHUNK: linear algebra\n",
      "CHUNK:  courses like Math 51\n",
      "CHUNK: , 103, Math 113,\n",
      "CHUNK:  or CS205 at Stanford is\n",
      "CHUNK:  sufficien\n",
      "CHUNK: t.\n",
      "\n",
      "- Program\n",
      "CHUNK: ming Knowledge\n",
      "CHUNK: :\n",
      "  - Some f\n",
      "CHUNK: amiliarity with programming, with a f\n",
      "CHUNK: ocus on MAT\n",
      "CHUNK: LAB or Octave\n",
      "CHUNK:  for assignm\n",
      "CHUNK: ents.\n",
      "  - Unders\n",
      "CHUNK: tanding of big-\n",
      "CHUNK: O notation\n",
      "CHUNK:  and knowledge of d\n",
      "CHUNK: ata stru\n",
      "CHUNK: ctures like link\n",
      "CHUNK: ed lists, \n",
      "CHUNK: queues, o\n",
      "CHUNK: r binary\n",
      "CHUNK:  trees is impo\n",
      "CHUNK: rtant. Specific knowledge of C or Java is not explicitly required, but may be useful.\n",
      "\n",
      "The instructor also noted that students who need a review of these prerequisites would have the opportunity to refresh their knowledge in review sections as part of the course.\n"
     ]
    }
   ],
   "source": [
    "const response = await fetch(`http://localhost:${port}`, {\n",
    "  method: \"POST\",\n",
    "  headers: {\n",
    "    \"content-type\": \"application/json\",\n",
    "  },\n",
    "  body: JSON.stringify({\n",
    "    question: \"Can you list them in bullet point format?\",\n",
    "    session_id: \"1\", // Should randomly generate/assign\n",
    "  })\n",
    "});\n",
    "\n",
    "// response.body is a ReadableStream\n",
    "const reader = response.body?.getReader();\n",
    "\n",
    "for await (const chunk of readChunks(reader)) {\n",
    "  console.log(\"CHUNK:\", chunk);\n",
    "}\n",
    "\n",
    "await sleep();"
   ]
  },
  {
   "cell_type": "code",
   "execution_count": 16,
   "id": "fbcaa28f-5057-4109-80c1-406ec47bd9eb",
   "metadata": {
    "height": 336
   },
   "outputs": [
    {
     "name": "stdout",
     "output_type": "stream",
     "text": [
      "CHUNK: Based on \n",
      "CHUNK: the provi\n",
      "CHUNK: ded context \n",
      "CHUNK: and chat\n",
      "CHUNK:  history, \n",
      "CHUNK: you did not ask a \n",
      "CHUNK: specific \n",
      "CHUNK: question. \n",
      "CHUNK: Instead,\n",
      "CHUNK:  the instruct\n",
      "CHUNK: or is inquir\n",
      "CHUNK: ing about\n",
      "CHUNK:  the backgrou\n",
      "CHUNK: nd of the stu\n",
      "CHUNK: dents in the class,\n",
      "CHUNK:  asking which disciplines\n",
      "CHUNK:  they are f\n",
      "CHUNK: rom. The\n",
      "CHUNK:  instructor goes on to a\n",
      "CHUNK: cknowledge the\n",
      "CHUNK:  diversity of the students\n",
      "CHUNK: , indicating t\n",
      "CHUNK: hat it mak\n",
      "CHUNK: es the class interesting to teach and be in. Therefore, based on the context provided, I can infer that you did not ask a question, but rather participated in a class discussion where the instructor was gathering information about the students' academic backgrounds.\n"
     ]
    }
   ],
   "source": [
    "const response = await fetch(`http://localhost:${port}`, {\n",
    "  method: \"POST\",\n",
    "  headers: {\n",
    "    \"content-type\": \"application/json\",\n",
    "  },\n",
    "  body: JSON.stringify({\n",
    "    question: \"What did I just ask you?\",\n",
    "    session_id: \"2\", // Should randomly generate/assign\n",
    "  })\n",
    "});\n",
    "\n",
    "// response.body is a ReadableStream\n",
    "const reader = response.body?.getReader();\n",
    "\n",
    "for await (const chunk of readChunks(reader)) {\n",
    "  console.log(\"CHUNK:\", chunk);\n",
    "}\n",
    "\n",
    "await sleep();"
   ]
  },
  {
   "cell_type": "code",
   "execution_count": null,
   "id": "464b5f7d-75e0-4366-8adf-48053f19229d",
   "metadata": {
    "height": 30
   },
   "outputs": [],
   "source": []
  },
  {
   "cell_type": "code",
   "execution_count": null,
   "id": "e50feff9-72d1-4c1a-96b9-ec80ccde87f9",
   "metadata": {
    "height": 30
   },
   "outputs": [],
   "source": []
  },
  {
   "cell_type": "code",
   "execution_count": null,
   "id": "258343e5-e488-4c2c-938b-8c3189ef959d",
   "metadata": {
    "height": 30
   },
   "outputs": [],
   "source": []
  },
  {
   "cell_type": "code",
   "execution_count": null,
   "id": "6ec20e0c-389f-4cd1-b5df-67f6d706fb4e",
   "metadata": {
    "height": 30
   },
   "outputs": [],
   "source": []
  },
  {
   "cell_type": "code",
   "execution_count": null,
   "id": "a4b2b76f-f963-4226-95f1-42d15487f0ca",
   "metadata": {
    "height": 30
   },
   "outputs": [],
   "source": []
  },
  {
   "cell_type": "code",
   "execution_count": null,
   "id": "99a497d1-0587-431b-bc54-657e935af6df",
   "metadata": {
    "height": 30
   },
   "outputs": [],
   "source": []
  },
  {
   "cell_type": "code",
   "execution_count": null,
   "id": "12805d9a-d5fe-48d5-acf3-d88a929e9d21",
   "metadata": {
    "height": 30
   },
   "outputs": [],
   "source": []
  },
  {
   "cell_type": "code",
   "execution_count": null,
   "id": "56d65826-7917-4a51-b937-37d3d460c5eb",
   "metadata": {
    "height": 30
   },
   "outputs": [],
   "source": []
  },
  {
   "cell_type": "code",
   "execution_count": null,
   "id": "fc803c79-ef69-4539-b2eb-da3cd89cb134",
   "metadata": {
    "height": 30
   },
   "outputs": [],
   "source": []
  },
  {
   "cell_type": "code",
   "execution_count": null,
   "id": "9ca4ed79-d80a-4d26-9832-1c13b7eb9085",
   "metadata": {
    "height": 30
   },
   "outputs": [],
   "source": []
  },
  {
   "cell_type": "code",
   "execution_count": null,
   "id": "241f7da1-51d2-4bc8-8ea8-a76eb80a70cf",
   "metadata": {
    "height": 30
   },
   "outputs": [],
   "source": []
  },
  {
   "cell_type": "code",
   "execution_count": null,
   "id": "c838bf09-8369-4942-a78f-73a94b74d602",
   "metadata": {
    "height": 30
   },
   "outputs": [],
   "source": []
  }
 ],
 "metadata": {
  "kernelspec": {
   "display_name": "Deno",
   "language": "typescript",
   "name": "deno"
  },
  "language_info": {
   "file_extension": ".ts",
   "mimetype": "text/x.typescript",
   "name": "typescript",
   "nb_converter": "script",
   "pygments_lexer": "typescript",
   "version": "5.3.3"
  }
 },
 "nbformat": 4,
 "nbformat_minor": 5
}
